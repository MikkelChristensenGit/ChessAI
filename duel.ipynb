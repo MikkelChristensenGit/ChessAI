{
 "cells": [
  {
   "cell_type": "markdown",
   "id": "068c98ac",
   "metadata": {},
   "source": [
    "## Duel the AI\n",
    "This script allows a player to play against my AI.\n",
    "The player plays as black and enters their move in algebraic notation"
   ]
  },
  {
   "cell_type": "code",
   "execution_count": null,
   "id": "ef45a4b7",
   "metadata": {},
   "outputs": [],
   "source": [
    "# Files needed\n",
    "from utils import *\n",
    "from evaluation import *\n",
    "from minimax import *"
   ]
  },
  {
   "cell_type": "code",
   "execution_count": null,
   "id": "66e1d1a9",
   "metadata": {},
   "outputs": [],
   "source": [
    "# Load the AI\n",
    "model = chessCNN()\n",
    "if torch.cuda.is_available() == True: # If GPU is available\n",
    "    model.load_state_dict(torch.load(\"chessCNN_weights.pt\"))\n",
    "    print(\"Weights succesfully loaded!\")\n",
    "else: # If only CPU is available\n",
    "    model.load_state_dict(torch.load(\"chessCNN_weights.pt\", map_location=torch.device('cpu')))\n",
    "    print(\"Weights succesfully loaded!\")\n",
    "\n",
    "\n",
    "# Assign the AI to play White\n",
    "global ai_white \n",
    "ai_white = True"
   ]
  },
  {
   "cell_type": "markdown",
   "id": "f0e2a63e",
   "metadata": {},
   "source": [
    "Duel"
   ]
  },
  {
   "cell_type": "code",
   "execution_count": null,
   "id": "b5907fe2",
   "metadata": {},
   "outputs": [],
   "source": [
    "# Instantiate chess board\n",
    "board = chess.Board()"
   ]
  },
  {
   "cell_type": "code",
   "execution_count": null,
   "id": "9cfd29cd",
   "metadata": {},
   "outputs": [],
   "source": [
    "# AI perform its move\n",
    "AI_move(depth, board, 5) # Perform AI move\n",
    "board"
   ]
  },
  {
   "cell_type": "code",
   "execution_count": null,
   "id": "d1a9cd0c",
   "metadata": {},
   "outputs": [],
   "source": [
    "# Player type in their move in algebraic notation\n",
    "# Which square to move from and to\n",
    "move = 'e7e6'\n",
    "board.push(chess.Move.from_uci(move))\n",
    "board"
   ]
  },
  {
   "cell_type": "code",
   "execution_count": null,
   "id": "e2c3965e",
   "metadata": {},
   "outputs": [],
   "source": []
  },
  {
   "cell_type": "code",
   "execution_count": null,
   "id": "6c1479a5",
   "metadata": {},
   "outputs": [],
   "source": [
    "# If the player makes a mistake use this code to cancel the most recent move\n",
    "board.pop()"
   ]
  }
 ],
 "metadata": {
  "kernelspec": {
   "display_name": "Python 3 (ipykernel)",
   "language": "python",
   "name": "python3"
  },
  "language_info": {
   "codemirror_mode": {
    "name": "ipython",
    "version": 3
   },
   "file_extension": ".py",
   "mimetype": "text/x-python",
   "name": "python",
   "nbconvert_exporter": "python",
   "pygments_lexer": "ipython3",
   "version": "3.11.5"
  }
 },
 "nbformat": 4,
 "nbformat_minor": 5
}
