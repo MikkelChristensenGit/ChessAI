{
 "cells": [
  {
   "cell_type": "code",
   "execution_count": null,
   "id": "1caaa58e",
   "metadata": {},
   "outputs": [],
   "source": [
    "board = chess.Board()"
   ]
  },
  {
   "cell_type": "code",
   "execution_count": null,
   "id": "ee0f44b0",
   "metadata": {},
   "outputs": [],
   "source": [
    "AI_move(depth, board, 5) # Perform AI move\n",
    "board"
   ]
  },
  {
   "cell_type": "code",
   "execution_count": null,
   "id": "b274669f",
   "metadata": {},
   "outputs": [],
   "source": [
    "move = 'b1b7'\n",
    "board.push(chess.Move.from_uci(move))\n",
    "board"
   ]
  },
  {
   "cell_type": "code",
   "execution_count": null,
   "id": "0619767a",
   "metadata": {},
   "outputs": [],
   "source": []
  },
  {
   "cell_type": "code",
   "execution_count": null,
   "id": "e2041f82",
   "metadata": {},
   "outputs": [],
   "source": [
    "board.pop()"
   ]
  }
 ],
 "metadata": {
  "kernelspec": {
   "display_name": "Python 3 (ipykernel)",
   "language": "python",
   "name": "python3"
  },
  "language_info": {
   "codemirror_mode": {
    "name": "ipython",
    "version": 3
   },
   "file_extension": ".py",
   "mimetype": "text/x-python",
   "name": "python",
   "nbconvert_exporter": "python",
   "pygments_lexer": "ipython3",
   "version": "3.11.5"
  }
 },
 "nbformat": 4,
 "nbformat_minor": 5
}
