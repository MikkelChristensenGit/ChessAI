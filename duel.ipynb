{
 "cells": [
  {
   "cell_type": "markdown",
   "id": "7dc5fa5d",
   "metadata": {},
   "source": [
    "## Duel AI"
   ]
  },
  {
   "cell_type": "code",
   "execution_count": null,
   "id": "5bce8553",
   "metadata": {},
   "outputs": [],
   "source": [
    "# Instantiate chess board\n",
    "board = chess.Board()"
   ]
  },
  {
   "cell_type": "code",
   "execution_count": null,
   "id": "e358a201",
   "metadata": {},
   "outputs": [],
   "source": [
    "# AI perform its move\n",
    "AI_move(depth, board, 5) # Perform AI move\n",
    "board"
   ]
  },
  {
   "cell_type": "code",
   "execution_count": null,
   "id": "4cb0746b",
   "metadata": {},
   "outputs": [],
   "source": [
    "# Player type in their move in algebraic notation\n",
    "# Which square to move from and to\n",
    "move = 'b1b7'\n",
    "board.push(chess.Move.from_uci(move))\n",
    "board"
   ]
  },
  {
   "cell_type": "code",
   "execution_count": null,
   "id": "c1abd3f0",
   "metadata": {},
   "outputs": [],
   "source": []
  },
  {
   "cell_type": "code",
   "execution_count": null,
   "id": "661e31fd",
   "metadata": {},
   "outputs": [],
   "source": [
    "board.pop()"
   ]
  }
 ],
 "metadata": {
  "kernelspec": {
   "display_name": "Python 3 (ipykernel)",
   "language": "python",
   "name": "python3"
  },
  "language_info": {
   "codemirror_mode": {
    "name": "ipython",
    "version": 3
   },
   "file_extension": ".py",
   "mimetype": "text/x-python",
   "name": "python",
   "nbconvert_exporter": "python",
   "pygments_lexer": "ipython3",
   "version": "3.11.5"
  }
 },
 "nbformat": 4,
 "nbformat_minor": 5
}
