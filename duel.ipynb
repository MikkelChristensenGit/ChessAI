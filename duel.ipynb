from utils import *
from minimax import *
from evaluation import *

# Load CNN model weights from "chessCNN"
model = chessCNN()
if torch.cuda.is_available() == True: # If GPU is available
    model.load_state_dict(torch.load("chessCNN_weights.pt"))
    print("Weights succesfully loaded!")
else: # If only CPU is available
    model.load_state_dict(torch.load("chessCNN_weights.pt", map_location=torch.device('cpu')))
    print("Weights succesfully loaded!")


# Assign my AI to play White
global ai_white 
ai_white = True

# Duel
board = chess.Board() # Instatiate board
##

AI_move(depth, board, 5) # Perform AI move
board
##

move = 'b1b7'
board.push(chess.Move.from_uci(move))
board
